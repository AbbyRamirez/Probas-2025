{
  "nbformat": 4,
  "nbformat_minor": 0,
  "metadata": {
    "colab": {
      "provenance": [],
      "authorship_tag": "ABX9TyPy+rSDqk1WjJmdMMwASGUU",
      "include_colab_link": true
    },
    "kernelspec": {
      "name": "python3",
      "display_name": "Python 3"
    },
    "language_info": {
      "name": "python"
    }
  },
  "cells": [
    {
      "cell_type": "markdown",
      "metadata": {
        "id": "view-in-github",
        "colab_type": "text"
      },
      "source": [
        "<a href=\"https://colab.research.google.com/github/AbbyRamirez/Probas-2025/blob/main/Ejercicios_semana_1.ipynb\" target=\"_parent\"><img src=\"https://colab.research.google.com/assets/colab-badge.svg\" alt=\"Open In Colab\"/></a>"
      ]
    },
    {
      "cell_type": "code",
      "execution_count": null,
      "metadata": {
        "colab": {
          "base_uri": "https://localhost:8080/"
        },
        "id": "yTqD10j7v4NC",
        "outputId": "e3244b21-4423-4aac-ac3f-7070a9ab125e"
      },
      "outputs": [
        {
          "output_type": "stream",
          "name": "stdout",
          "text": [
            "hola mundo\n"
          ]
        }
      ],
      "source": [
        "#Ejercicios semana 1\n",
        "\n",
        "#Ejercicio 1: c)\n",
        "\n",
        "#Ejercicio 2: Son las instrucciones escritas por adelantado para que las haga\n",
        "            # Un CPU\n",
        "\n",
        "#Ejercicio 3: Un interprete analiza e interpreta el codigo fuente\n",
        "        # mientras que el compilador traduce el codigo fuente a codigo máquina\n",
        "\n",
        "#Ejercicio 4: c)\n",
        "\n",
        "#Ejercicio 5: print esta mal escrito (print no primt)\n",
        "\n",
        "#Ejercicio 6: b)\n",
        "\n",
        "#Ejercicio 7: b)\n",
        "\n",
        "#Ejercicio 8: 1) Cerebro, 2) M. Corto plazo\n",
        "            # 3) M. largo plazo, 4) Los sentidos, 5) habla\n",
        "\n",
        "# Ejercicio 9: Revisar el código buscando errores \"gramaticales\" para\n",
        "              #corregirlos\n"
      ]
    },
    {
      "cell_type": "markdown",
      "source": [],
      "metadata": {
        "id": "N-D3XlGyGGJ_"
      }
    }
  ]
}